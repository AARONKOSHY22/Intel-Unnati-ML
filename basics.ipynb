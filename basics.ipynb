{
 "cells": [
  {
   "cell_type": "markdown",
   "id": "03df6b39-054a-4b19-b0c6-0703601c0e6b",
   "metadata": {
    "tags": []
   },
   "source": [
    "# BASICS OF `PYTHON` PROGRAMMING\n",
    "In this notebook  we will explain basic `Python` for ML."
   ]
  },
  {
   "cell_type": "markdown",
   "id": "b7190642-b8fa-40e1-9d7b-8a919f0a1b88",
   "metadata": {},
   "source": [
    "## Derived data types in `Python`"
   ]
  },
  {
   "cell_type": "markdown",
   "id": "a330084e-b5aa-45ed-85bb-90a0d085291a",
   "metadata": {},
   "source": [
    ">**NOTE:** In python `int`, `float`, `str`, etc. are atomic data types and no declaration is required."
   ]
  },
  {
   "cell_type": "markdown",
   "id": "0cb588ad-ce41-4464-963e-5c46368f9c1a",
   "metadata": {},
   "source": [
    "### List"
   ]
  },
  {
   "cell_type": "code",
   "execution_count": 7,
   "id": "5c8eb579-0b24-4d50-abfa-6f3cb87e30b3",
   "metadata": {},
   "outputs": [],
   "source": [
    "my_list=[1,2,3]"
   ]
  },
  {
   "cell_type": "code",
   "execution_count": 8,
   "id": "f29f0205-64cc-43b5-87f1-b4d5a58f25f3",
   "metadata": {},
   "outputs": [
    {
     "data": {
      "text/plain": [
       "[1, 2, 3]"
      ]
     },
     "execution_count": 8,
     "metadata": {},
     "output_type": "execute_result"
    }
   ],
   "source": [
    "my_list"
   ]
  },
  {
   "cell_type": "code",
   "execution_count": 9,
   "id": "fb26a30b-07c4-4c0b-bccf-a7c3a493abea",
   "metadata": {},
   "outputs": [
    {
     "data": {
      "text/plain": [
       "1"
      ]
     },
     "execution_count": 9,
     "metadata": {},
     "output_type": "execute_result"
    }
   ],
   "source": [
    "my_list[0]"
   ]
  },
  {
   "cell_type": "code",
   "execution_count": 10,
   "id": "a4045e51-c4fa-4bed-b1d5-f8e92f3dafd2",
   "metadata": {},
   "outputs": [],
   "source": [
    "my_list.append(4)"
   ]
  },
  {
   "cell_type": "code",
   "execution_count": 11,
   "id": "47672801-ee23-412f-988a-7d93102ffccb",
   "metadata": {},
   "outputs": [
    {
     "data": {
      "text/plain": [
       "[1, 2, 3, 4]"
      ]
     },
     "execution_count": 11,
     "metadata": {},
     "output_type": "execute_result"
    }
   ],
   "source": [
    "my_list"
   ]
  },
  {
   "cell_type": "markdown",
   "id": "485568e0-a3ca-4129-af20-7e83096a571d",
   "metadata": {},
   "source": [
    "### Tuple"
   ]
  },
  {
   "cell_type": "code",
   "execution_count": 12,
   "id": "2dc4d28f-55f1-402c-8a2f-ccb0dd3e27d5",
   "metadata": {},
   "outputs": [],
   "source": [
    "t=(1,2,3)"
   ]
  },
  {
   "cell_type": "code",
   "execution_count": 13,
   "id": "94286dec-761b-4dbe-ae0a-d52cad40e032",
   "metadata": {},
   "outputs": [
    {
     "data": {
      "text/plain": [
       "(1, 2, 3)"
      ]
     },
     "execution_count": 13,
     "metadata": {},
     "output_type": "execute_result"
    }
   ],
   "source": [
    "t"
   ]
  },
  {
   "cell_type": "markdown",
   "id": "2e511aba-7259-47be-8a25-b03f85b7a553",
   "metadata": {},
   "source": [
    "### Dctionary"
   ]
  },
  {
   "cell_type": "code",
   "execution_count": 15,
   "id": "f8024f16-0c8c-4c32-b129-907c00f82a24",
   "metadata": {},
   "outputs": [],
   "source": [
    "d={'Name':'Aaron','Age':21}"
   ]
  },
  {
   "cell_type": "code",
   "execution_count": 17,
   "id": "da64c020-b5fb-4f14-830e-9dd587b23d3c",
   "metadata": {},
   "outputs": [
    {
     "data": {
      "text/plain": [
       "21"
      ]
     },
     "execution_count": 17,
     "metadata": {},
     "output_type": "execute_result"
    }
   ],
   "source": [
    "d['Age']"
   ]
  },
  {
   "cell_type": "code",
   "execution_count": 18,
   "id": "84833287-64ca-4871-a358-ca4042fd87c4",
   "metadata": {},
   "outputs": [
    {
     "data": {
      "text/plain": [
       "'Aaron'"
      ]
     },
     "execution_count": 18,
     "metadata": {},
     "output_type": "execute_result"
    }
   ],
   "source": [
    "d['Name']"
   ]
  },
  {
   "cell_type": "markdown",
   "id": "ea6c66b4-5660-4199-8336-4a75f8f2e4f6",
   "metadata": {},
   "source": [
    "### Set"
   ]
  },
  {
   "cell_type": "code",
   "execution_count": 19,
   "id": "b21b2d10-6845-427a-a962-28b1d6354d05",
   "metadata": {},
   "outputs": [
    {
     "data": {
      "text/plain": [
       "{1, 2, 3, 4}"
      ]
     },
     "execution_count": 19,
     "metadata": {},
     "output_type": "execute_result"
    }
   ],
   "source": [
    "{1,2,3,4,1,2,1,2,4,3,1,3}"
   ]
  },
  {
   "cell_type": "markdown",
   "id": "51146a83-79a6-42a9-b96f-00dbb34b0bf6",
   "metadata": {},
   "source": [
    "### Function"
   ]
  },
  {
   "cell_type": "code",
   "execution_count": 20,
   "id": "cae0577a-fb92-462b-9fee-f8f3b880a0b2",
   "metadata": {},
   "outputs": [],
   "source": [
    "def  times2(var):\n",
    "    return var*2"
   ]
  },
  {
   "cell_type": "code",
   "execution_count": 23,
   "id": "cec7f8da-17a5-4f67-8c8d-a93e36a21992",
   "metadata": {},
   "outputs": [
    {
     "data": {
      "text/plain": [
       "8"
      ]
     },
     "execution_count": 23,
     "metadata": {},
     "output_type": "execute_result"
    }
   ],
   "source": [
    "times2(4)"
   ]
  },
  {
   "cell_type": "markdown",
   "id": "3e1c9adc-7a74-45c5-8b56-8db0bcaf4ff8",
   "metadata": {},
   "source": [
    "### Lambda"
   ]
  },
  {
   "cell_type": "code",
   "execution_count": 24,
   "id": "bd4800a4-c2b6-4e60-8aae-d5453f33c4f4",
   "metadata": {},
   "outputs": [],
   "source": [
    "times2=lambda var:var*2"
   ]
  },
  {
   "cell_type": "code",
   "execution_count": 25,
   "id": "4220d164-79b3-4ff1-9b82-faf5252713c1",
   "metadata": {},
   "outputs": [
    {
     "name": "stdout",
     "output_type": "stream",
     "text": [
      "4\n"
     ]
    }
   ],
   "source": [
    "print(times2(2))"
   ]
  },
  {
   "cell_type": "code",
   "execution_count": 26,
   "id": "4815a22f-ef61-44a2-a5e4-5b9f72b5bfab",
   "metadata": {},
   "outputs": [],
   "source": [
    "x=[1,2,3,4]"
   ]
  },
  {
   "cell_type": "code",
   "execution_count": 27,
   "id": "8de5c88c-e8f3-4bc2-8fae-979ba570e071",
   "metadata": {},
   "outputs": [
    {
     "name": "stdout",
     "output_type": "stream",
     "text": [
      "[1, 4, 9, 16]\n"
     ]
    }
   ],
   "source": [
    "out=[]\n",
    "for item in x:\n",
    "    out.append(item**2)\n",
    "print(out)"
   ]
  },
  {
   "cell_type": "markdown",
   "id": "a72b026c-8c76-41f2-8cbf-80f7afa44bd0",
   "metadata": {},
   "source": [
    "### List comprehension"
   ]
  },
  {
   "cell_type": "code",
   "execution_count": 28,
   "id": "81cfd999-afe3-4eda-8271-47cb675c9e99",
   "metadata": {},
   "outputs": [
    {
     "data": {
      "text/plain": [
       "[1, 4, 9, 16]"
      ]
     },
     "execution_count": 28,
     "metadata": {},
     "output_type": "execute_result"
    }
   ],
   "source": [
    "[item**2 for item in x]"
   ]
  },
  {
   "cell_type": "markdown",
   "id": "7aa70105-1dbc-43ab-9681-305c8b1f7a43",
   "metadata": {},
   "source": [
    "### Printing"
   ]
  },
  {
   "cell_type": "code",
   "execution_count": 32,
   "id": "42c5334b-cee8-45df-822d-320f1a8d2c43",
   "metadata": {},
   "outputs": [
    {
     "name": "stdout",
     "output_type": "stream",
     "text": [
      "My name is:Aaron,my number is:3\n"
     ]
    }
   ],
   "source": [
    "print(\"My name is:{0},my number is:{1}\".format('Aaron',3))"
   ]
  },
  {
   "cell_type": "code",
   "execution_count": null,
   "id": "f4eee1e6-c53b-4bb3-ad09-112a683608a9",
   "metadata": {},
   "outputs": [],
   "source": []
  }
 ],
 "metadata": {
  "kernelspec": {
   "display_name": "Python 3 (Intel® oneAPI 2023.2)",
   "language": "python",
   "name": "c009-intel_distribution_of_python_3_oneapi-beta05-python"
  },
  "language_info": {
   "codemirror_mode": {
    "name": "ipython",
    "version": 3
   },
   "file_extension": ".py",
   "mimetype": "text/x-python",
   "name": "python",
   "nbconvert_exporter": "python",
   "pygments_lexer": "ipython3",
   "version": "3.9.16"
  }
 },
 "nbformat": 4,
 "nbformat_minor": 5
}
